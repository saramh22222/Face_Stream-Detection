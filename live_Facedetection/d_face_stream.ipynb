{
 "cells": [
  {
   "cell_type": "code",
   "execution_count": 18,
   "metadata": {},
   "outputs": [],
   "source": [
    "import cv2"
   ]
  },
  {
   "cell_type": "code",
   "execution_count": 19,
   "metadata": {},
   "outputs": [],
   "source": [
    "face_detect=cv2.CascadeClassifier(\"haarcascade_frontalface_alt.xml\")"
   ]
  },
  {
   "cell_type": "markdown",
   "metadata": {},
   "source": [
    "detect face live"
   ]
  },
  {
   "cell_type": "code",
   "execution_count": 20,
   "metadata": {},
   "outputs": [],
   "source": [
    "stream = cv2.VideoCapture(0)\n",
    "\n",
    "while True :\n",
    "    st, frame = stream.read()\n",
    "    gra_frame=cv2.cvtColor(frame,cv2.COLOR_BGR2GRAY)\n",
    "    \n",
    "    #detect face\n",
    "    faces=face_detect.detectMultiScale(gra_frame , 1.3 , 5)\n",
    "    for (x,y,h,w) in faces:\n",
    "       cv2.rectangle(frame,(x,y),(x+w , y+h),(0,255,0),2 )\n",
    "\n",
    "    cv2.imshow(\"live\", frame)\n",
    "    if cv2.waitKey(100)  & 0xff==ord(\"x\"):\n",
    "     break \n",
    "\n",
    "stream.release()\n",
    "cv2.destroyAllWindows()    \n"
   ]
  }
 ],
 "metadata": {
  "kernelspec": {
   "display_name": "myenv",
   "language": "python",
   "name": "python3"
  },
  "language_info": {
   "codemirror_mode": {
    "name": "ipython",
    "version": 3
   },
   "file_extension": ".py",
   "mimetype": "text/x-python",
   "name": "python",
   "nbconvert_exporter": "python",
   "pygments_lexer": "ipython3",
   "version": "3.11.5"
  }
 },
 "nbformat": 4,
 "nbformat_minor": 2
}
